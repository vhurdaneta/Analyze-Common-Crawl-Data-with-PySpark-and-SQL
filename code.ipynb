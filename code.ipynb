{
 "cells": [
  {
   "attachments": {},
   "cell_type": "markdown",
   "id": "d31362fa",
   "metadata": {},
   "source": [
    "# PySpark and Big Data Project"
   ]
  },
  {
   "attachments": {},
   "cell_type": "markdown",
   "id": "7d3f30bf",
   "metadata": {},
   "source": [
    "Analyzing Common Crawl Data with RDDs"
   ]
  },
  {
   "attachments": {},
   "cell_type": "markdown",
   "id": "4d0c96e6",
   "metadata": {},
   "source": [
    "Initialize a new Spark Context and read in the domain graph as an RDD."
   ]
  },
  {
   "cell_type": "code",
   "execution_count": 23,
   "id": "ee8d3ed8",
   "metadata": {},
   "outputs": [],
   "source": [
    "# Import required modules\n",
    "from pyspark.sql import SparkSession\n",
    "\n",
    "# Create a new SparkSession\n",
    "spark = SparkSession.builder.getOrCreate()\n",
    "\n",
    "\n",
    "# Get SparkContext\n",
    "sc = spark.sparkContext\n",
    "\n",
    "spark.sparkContext.setLogLevel(\"ERROR\")\n"
   ]
  },
  {
   "cell_type": "code",
   "execution_count": 24,
   "id": "a3ba7d85",
   "metadata": {},
   "outputs": [
    {
     "data": {
      "text/plain": [
       "['367855\\t172-in-addr\\tarpa\\t1',\n",
       " '367856\\taddr\\tarpa\\t1',\n",
       " '367857\\tamphic\\tarpa\\t1',\n",
       " '367858\\tbeta\\tarpa\\t1',\n",
       " '367859\\tcallic\\tarpa\\t1']"
      ]
     },
     "execution_count": 24,
     "metadata": {},
     "output_type": "execute_result"
    }
   ],
   "source": [
    "# Read Domains CSV File into an RDD\n",
    "file_path = 'data/cc-main-limited-domains.csv'\n",
    "common_crawl_domain_counts = sc.textFile(file_path)\n",
    "\n",
    "# Display first few domains from the RDD\n",
    "common_crawl_domain_counts.take(5)"
   ]
  },
  {
   "attachments": {},
   "cell_type": "markdown",
   "id": "8f18a601",
   "metadata": {},
   "source": [
    "Applying `fmt_domain_graph_entry` over `common_crawl_domain_counts` and saveing the result as a new RDD named `formatted_host_counts`."
   ]
  },
  {
   "cell_type": "code",
   "execution_count": 25,
   "id": "7950d8d4",
   "metadata": {},
   "outputs": [
    {
     "data": {
      "text/plain": [
       "[(367855, '172-in-addr', 'arpa', 1),\n",
       " (367856, 'addr', 'arpa', 1),\n",
       " (367857, 'amphic', 'arpa', 1),\n",
       " (367858, 'beta', 'arpa', 1),\n",
       " (367859, 'callic', 'arpa', 1),\n",
       " (367860, 'ch', 'arpa', 1),\n",
       " (367861, 'd', 'arpa', 1),\n",
       " (367862, 'home', 'arpa', 7),\n",
       " (367863, 'iana', 'arpa', 1),\n",
       " (367907, 'local', 'arpa', 1)]"
      ]
     },
     "execution_count": 25,
     "metadata": {},
     "output_type": "execute_result"
    }
   ],
   "source": [
    "def fmt_domain_graph_entry(entry):\n",
    "    \"\"\"\n",
    "    Formats a Common Crawl domain graph entry. Extracts the site_id, \n",
    "    top-level domain (tld), domain name, and subdomain count as seperate items.\n",
    "    \"\"\"\n",
    "\n",
    "    # Split the entry on delimiter ('\\t') into site_id, domain, tld, and num_subdomains\n",
    "    site_id, domain, tld, num_subdomains = entry.split('\\t')        \n",
    "    return int(site_id), domain, tld, int(num_subdomains)\n",
    "\n",
    "# Apply `fmt_domain_graph_entry` to the raw data RDD\n",
    "formatted_host_counts = common_crawl_domain_counts.map(fmt_domain_graph_entry)\n",
    "\n",
    "# Display the first few entries of the new RDD\n",
    "formatted_host_counts.take(10)"
   ]
  },
  {
   "attachments": {},
   "cell_type": "markdown",
   "id": "0e9a9aae",
   "metadata": {},
   "source": [
    "Applying `extract_subdomain_counts` over `common_crawl_domain_counts` and saving the result as a new RDD named `host_counts`."
   ]
  },
  {
   "cell_type": "code",
   "execution_count": 26,
   "id": "cfb75dca",
   "metadata": {},
   "outputs": [
    {
     "data": {
      "text/plain": [
       "[1, 1, 1, 1, 1, 1, 1, 7, 1, 1]"
      ]
     },
     "execution_count": 26,
     "metadata": {},
     "output_type": "execute_result"
    }
   ],
   "source": [
    "def extract_subdomain_counts(entry):\n",
    "    \"\"\"\n",
    "    Extract the subdomain count from a Common Crawl domain graph entry.\n",
    "    \"\"\"\n",
    "    \n",
    "    # Split the entry on delimiter ('\\t') into site_id, domain, tld, and num_subdomains\n",
    "    site_id, domain, tld, num_subdomains = entry.split('\\t')\n",
    "    \n",
    "    # return ONLY the num_subdomains\n",
    "    return int(num_subdomains)\n",
    "\n",
    "\n",
    "# Apply `extract_subdomain_counts` to the raw data RDD\n",
    "host_counts = common_crawl_domain_counts.map(extract_subdomain_counts)\n",
    "\n",
    "# Display the first few entries\n",
    "host_counts.take(10)"
   ]
  },
  {
   "attachments": {},
   "cell_type": "markdown",
   "id": "e44483f3",
   "metadata": {},
   "source": [
    "Using `host_counts`, calculate the total number of subdomains across all domains in the dataset, save the result to a variable named `total_host_counts`."
   ]
  },
  {
   "cell_type": "code",
   "execution_count": 27,
   "id": "aa284001",
   "metadata": {},
   "outputs": [
    {
     "name": "stdout",
     "output_type": "stream",
     "text": [
      "595466\n"
     ]
    }
   ],
   "source": [
    "# Reduce the RDD to a single value, the sum of subdomains, with a lambda function as the reduce function\n",
    "total_host_counts = host_counts.reduce(lambda a,b: a+b)\n",
    "\n",
    "# Display result count\n",
    "print(total_host_counts)"
   ]
  },
  {
   "attachments": {},
   "cell_type": "markdown",
   "id": "11f5579e",
   "metadata": {},
   "source": [
    "Stop the current `SparkSession` and `sparkContext` before moving on to analyze the data with SparkSQL"
   ]
  },
  {
   "cell_type": "code",
   "execution_count": 28,
   "id": "562745d6",
   "metadata": {},
   "outputs": [],
   "source": [
    "# Stop the sparkContext and the SparkSession\n",
    "spark.stop()"
   ]
  },
  {
   "attachments": {},
   "cell_type": "markdown",
   "id": "f129687d",
   "metadata": {},
   "source": [
    "## Exploring Domain Counts with PySpark DataFrames and SQL"
   ]
  },
  {
   "attachments": {},
   "cell_type": "markdown",
   "id": "3c22e2b6",
   "metadata": {},
   "source": [
    "Create a new `SparkSession` and assign it to a variable named `spark`."
   ]
  },
  {
   "cell_type": "code",
   "execution_count": 29,
   "id": "99565365",
   "metadata": {},
   "outputs": [
    {
     "name": "stdout",
     "output_type": "stream",
     "text": [
      "+------+-----------+----+---+\n",
      "|_c0   |_c1        |_c2 |_c3|\n",
      "+------+-----------+----+---+\n",
      "|367855|172-in-addr|arpa|1  |\n",
      "|367856|addr       |arpa|1  |\n",
      "|367857|amphic     |arpa|1  |\n",
      "|367858|beta       |arpa|1  |\n",
      "|367859|callic     |arpa|1  |\n",
      "+------+-----------+----+---+\n",
      "only showing top 5 rows\n",
      "\n"
     ]
    }
   ],
   "source": [
    "from pyspark.sql import SparkSession\n",
    "\n",
    "# Create a new SparkSession\n",
    "spark = SparkSession \\\n",
    "    .builder \\\n",
    "    .getOrCreate()\n",
    "\n",
    "# Read the target file into a DataFrame\n",
    "common_crawl = spark.read\\\n",
    ".option('delimiter', '\\t')\\\n",
    ".option('inferSchema', True)\\\n",
    ".csv(file_path)\n",
    "\n",
    "\n",
    "# Display the DataFrame to the notebook\n",
    "common_crawl.show(5, truncate = False)"
   ]
  },
  {
   "attachments": {},
   "cell_type": "markdown",
   "id": "23082fd2",
   "metadata": {},
   "source": [
    "Rename the DataFrame's columns to the following: \n",
    "\n",
    "- site_id\n",
    "- domain\n",
    "- top_level_domain\n",
    "- num_subdomains"
   ]
  },
  {
   "cell_type": "code",
   "execution_count": 30,
   "id": "2f7b4ccc",
   "metadata": {},
   "outputs": [
    {
     "name": "stdout",
     "output_type": "stream",
     "text": [
      "+-------+-----------+----------------+--------------+\n",
      "|site_id|domain     |top_level_domain|num_subdomains|\n",
      "+-------+-----------+----------------+--------------+\n",
      "|367855 |172-in-addr|arpa            |1             |\n",
      "|367856 |addr       |arpa            |1             |\n",
      "|367857 |amphic     |arpa            |1             |\n",
      "|367858 |beta       |arpa            |1             |\n",
      "|367859 |callic     |arpa            |1             |\n",
      "+-------+-----------+----------------+--------------+\n",
      "only showing top 5 rows\n",
      "\n"
     ]
    }
   ],
   "source": [
    "# Rename the DataFrame's columns with `withColumnRenamed()`\n",
    "common_crawl =common_crawl\\\n",
    ".withColumnRenamed(\"_c0\", \"site_id\")\\\n",
    ".withColumnRenamed(\"_c1\", \"domain\")\\\n",
    ".withColumnRenamed(\"_c2\", \"top_level_domain\")\\\n",
    ".withColumnRenamed(\"_c3\", \"num_subdomains\")\\\n",
    "\n",
    "# Display the first few rows of the DataFrame and the new schema\n",
    "common_crawl.show(5, truncate = False)\n"
   ]
  },
  {
   "attachments": {},
   "cell_type": "markdown",
   "id": "ff524e08",
   "metadata": {},
   "source": [
    "## Reading and Writing Datasets to Disk"
   ]
  },
  {
   "attachments": {},
   "cell_type": "markdown",
   "id": "a00bc518",
   "metadata": {},
   "source": [
    "Saveing, reading and displaying the `common_crawl` DataFrame as parquet files in a directory called `./results/common_crawl/`."
   ]
  },
  {
   "cell_type": "code",
   "execution_count": 31,
   "id": "33be3162",
   "metadata": {},
   "outputs": [
    {
     "name": "stdout",
     "output_type": "stream",
     "text": [
      "+-------+-----------+----------------+--------------+\n",
      "|site_id|domain     |top_level_domain|num_subdomains|\n",
      "+-------+-----------+----------------+--------------+\n",
      "|367855 |172-in-addr|arpa            |1             |\n",
      "|367856 |addr       |arpa            |1             |\n",
      "|367857 |amphic     |arpa            |1             |\n",
      "|367858 |beta       |arpa            |1             |\n",
      "|367859 |callic     |arpa            |1             |\n",
      "+-------+-----------+----------------+--------------+\n",
      "only showing top 5 rows\n",
      "\n"
     ]
    }
   ],
   "source": [
    "# Save the `common_crawl` DataFrame to a series of parquet files\n",
    "common_crawl.write.parquet('./results/common_crawl/', mode=\"overwrite\")\n",
    "\n",
    "# Read from parquet directory\n",
    "common_crawl_domains = spark.read.parquet('./results/common_crawl/')\n",
    "\n",
    "# Display the first few rows of the DataFrame and the schema\n",
    "common_crawl_domains.show(5,truncate=False)"
   ]
  },
  {
   "attachments": {},
   "cell_type": "markdown",
   "id": "96f34ede",
   "metadata": {},
   "source": [
    "## Querying Domain Counts with PySpark DataFrames and SQL"
   ]
  },
  {
   "attachments": {},
   "cell_type": "markdown",
   "id": "d71895cf",
   "metadata": {},
   "source": [
    "Create a local temporary view from `common_crawl_domains`"
   ]
  },
  {
   "cell_type": "code",
   "execution_count": 32,
   "id": "fdd04b0b",
   "metadata": {},
   "outputs": [],
   "source": [
    "# Create a temporary view in the metadata for this `SparkSession`\n",
    "common_crawl_domains.createOrReplaceTempView(\"common_crawl_domains\")"
   ]
  },
  {
   "attachments": {},
   "cell_type": "markdown",
   "id": "b5c2ef4f",
   "metadata": {},
   "source": [
    "Calculate the total number of domains for each top-level domain in the dataset, using Dataframe and SQL methods"
   ]
  },
  {
   "cell_type": "code",
   "execution_count": 33,
   "id": "b8f79679",
   "metadata": {},
   "outputs": [
    {
     "name": "stdout",
     "output_type": "stream",
     "text": [
      "+----------------+-------------------+\n",
      "|top_level_domain|sum(num_subdomains)|\n",
      "+----------------+-------------------+\n",
      "|edu             |484438             |\n",
      "|gov             |85354              |\n",
      "|travel          |10768              |\n",
      "|coop            |8683               |\n",
      "|jobs            |6023               |\n",
      "|post            |143                |\n",
      "|map             |40                 |\n",
      "|arpa            |17                 |\n",
      "+----------------+-------------------+\n",
      "\n",
      "+----------------+-------------------+\n",
      "|top_level_domain|sum(num_subdomains)|\n",
      "+----------------+-------------------+\n",
      "|edu             |484438             |\n",
      "|gov             |85354              |\n",
      "|travel          |10768              |\n",
      "|coop            |8683               |\n",
      "|jobs            |6023               |\n",
      "|post            |143                |\n",
      "|map             |40                 |\n",
      "|arpa            |17                 |\n",
      "+----------------+-------------------+\n",
      "\n"
     ]
    }
   ],
   "source": [
    "# Aggregate the DataFrame using DataFrame methods\n",
    "common_crawl_domains\\\n",
    ".select([\"top_level_domain\", \"num_subdomains\"])\\\n",
    ".groupBy(\"top_level_domain\").sum(\"num_subdomains\")\\\n",
    ".orderBy(\"sum(num_subdomains)\", ascending = False)\\\n",
    ".show(truncate = False)\n",
    "\n",
    "# Aggregate the DataFrame using SQL\n",
    "query = \"\"\" SELECT top_level_domain, sum(num_subdomains)\n",
    "FROM common_crawl_domains\n",
    "GROUP BY top_level_domain \n",
    "ORDER BY sum(num_subdomains) DESC\n",
    "\"\"\"\n",
    "\n",
    "spark.sql(query).show(truncate = False)"
   ]
  },
  {
   "attachments": {},
   "cell_type": "markdown",
   "id": "abb11c33",
   "metadata": {},
   "source": [
    "Calculate the total number of subdomains for each top-level domain in the dataset."
   ]
  },
  {
   "cell_type": "code",
   "execution_count": 34,
   "id": "502578e1",
   "metadata": {},
   "outputs": [
    {
     "name": "stdout",
     "output_type": "stream",
     "text": [
      "+----------------+--------+-------------------+\n",
      "|top_level_domain|domain  |sum(num_subdomains)|\n",
      "+----------------+--------+-------------------+\n",
      "|edu             |academia|9657               |\n",
      "|edu             |mit     |7114               |\n",
      "|edu             |stanford|7015               |\n",
      "|edu             |harvard |5497               |\n",
      "|edu             |wisc    |5376               |\n",
      "|gov             |nasa    |5370               |\n",
      "|edu             |tamu    |5088               |\n",
      "|edu             |berkeley|4874               |\n",
      "|edu             |umn     |4748               |\n",
      "|edu             |ncsu    |4448               |\n",
      "|edu             |cuny    |4260               |\n",
      "|edu             |unc     |4249               |\n",
      "|edu             |cornell |4235               |\n",
      "|edu             |ucla    |4217               |\n",
      "|edu             |ucsd    |4122               |\n",
      "|edu             |ucdavis |4105               |\n",
      "|edu             |umich   |4067               |\n",
      "|edu             |psu     |3840               |\n",
      "|edu             |msu     |3830               |\n",
      "|edu             |ufl     |3795               |\n",
      "+----------------+--------+-------------------+\n",
      "only showing top 20 rows\n",
      "\n",
      "+----------------+--------+-------------------+\n",
      "|top_level_domain|domain  |sum(num_subdomains)|\n",
      "+----------------+--------+-------------------+\n",
      "|edu             |academia|9657               |\n",
      "|edu             |mit     |7114               |\n",
      "|edu             |stanford|7015               |\n",
      "|edu             |harvard |5497               |\n",
      "|edu             |wisc    |5376               |\n",
      "|gov             |nasa    |5370               |\n",
      "|edu             |tamu    |5088               |\n",
      "|edu             |berkeley|4874               |\n",
      "|edu             |umn     |4748               |\n",
      "|edu             |ncsu    |4448               |\n",
      "|edu             |cuny    |4260               |\n",
      "|edu             |unc     |4249               |\n",
      "|edu             |cornell |4235               |\n",
      "|edu             |ucla    |4217               |\n",
      "|edu             |ucsd    |4122               |\n",
      "|edu             |ucdavis |4105               |\n",
      "|edu             |umich   |4067               |\n",
      "|edu             |psu     |3840               |\n",
      "|edu             |msu     |3830               |\n",
      "|edu             |ufl     |3795               |\n",
      "+----------------+--------+-------------------+\n",
      "only showing top 20 rows\n",
      "\n"
     ]
    }
   ],
   "source": [
    "# Aggregate the DataFrame using DataFrame methods\n",
    "common_crawl_domains\\\n",
    ".select([\"top_level_domain\",\"domain\", \"num_subdomains\"])\\\n",
    ".groupBy([\"top_level_domain\", \"domain\"]).sum(\"num_subdomains\")\\\n",
    ".orderBy(\"sum(num_subdomains)\", ascending = False)\\\n",
    ".show(truncate = False)\n",
    "\n",
    "# Aggregate the DataFrame using SQL\n",
    "query = \"\"\" SELECT top_level_domain, domain, sum(num_subdomains)\n",
    "FROM common_crawl_domains\n",
    "GROUP BY top_level_domain, domain \n",
    "ORDER BY sum(num_subdomains) DESC\n",
    "\"\"\"\n",
    "\n",
    "spark.sql(query).show(truncate = False)\n"
   ]
  },
  {
   "attachments": {},
   "cell_type": "markdown",
   "id": "8a2dfea3",
   "metadata": {},
   "source": [
    "How many sub-domains does `nps.gov` have? Filter the dataset to that website's entry, display the columns `top_level_domain`, `domain`, and `num_subdomains` in your result."
   ]
  },
  {
   "cell_type": "code",
   "execution_count": 35,
   "id": "b45051e4",
   "metadata": {},
   "outputs": [
    {
     "name": "stdout",
     "output_type": "stream",
     "text": [
      "+--------+------+----------------+--------------+\n",
      "|site_id |domain|top_level_domain|num_subdomains|\n",
      "+--------+------+----------------+--------------+\n",
      "|57661852|nps   |gov             |178           |\n",
      "+--------+------+----------------+--------------+\n",
      "\n",
      "+----------------+------+-------------------+\n",
      "|top_level_domain|domain|sum(num_subdomains)|\n",
      "+----------------+------+-------------------+\n",
      "|gov             |nps   |178                |\n",
      "+----------------+------+-------------------+\n",
      "\n"
     ]
    }
   ],
   "source": [
    "# Filter the DataFrame using DataFrame Methods\n",
    "common_crawl_domains\\\n",
    ".filter(common_crawl_domains.top_level_domain == \"gov\")\\\n",
    ".filter(common_crawl_domains.domain == \"nps\")\\\n",
    ".show(truncate = False)\n",
    "\n",
    "# Filter the DataFrame using SQL\n",
    "query = \"\"\" SELECT top_level_domain, domain, sum(num_subdomains)\n",
    "FROM common_crawl_domains\n",
    "WHERE top_level_domain = 'gov'and domain = 'nps'\n",
    "GROUP BY top_level_domain, domain \n",
    "ORDER BY sum(num_subdomains) DESC\n",
    "\"\"\"\n",
    "\n",
    "spark.sql(query).show(truncate = False)\n"
   ]
  },
  {
   "attachments": {},
   "cell_type": "markdown",
   "id": "7336d454",
   "metadata": {},
   "source": [
    "Close the `SparkSession` and underlying `sparkContext`."
   ]
  },
  {
   "cell_type": "code",
   "execution_count": 36,
   "id": "e2233037",
   "metadata": {},
   "outputs": [],
   "source": [
    "# Stop the notebook's `SparkSession` and `sparkContext`\n",
    "spark.stop()"
   ]
  }
 ],
 "metadata": {
  "kernelspec": {
   "display_name": "Python 3 (ipykernel)",
   "language": "python",
   "name": "python3"
  },
  "language_info": {
   "codemirror_mode": {
    "name": "ipython",
    "version": 3
   },
   "file_extension": ".py",
   "mimetype": "text/x-python",
   "name": "python",
   "nbconvert_exporter": "python",
   "pygments_lexer": "ipython3",
   "version": "3.10.7"
  }
 },
 "nbformat": 4,
 "nbformat_minor": 5
}
